{
 "cells": [
  {
   "cell_type": "code",
   "execution_count": 82,
   "metadata": {},
   "outputs": [],
   "source": [
    "import numpy as np\n",
    "import random as rand"
   ]
  },
  {
   "cell_type": "code",
   "execution_count": 83,
   "metadata": {},
   "outputs": [],
   "source": [
    "def gen_count_sketch(m,n):\n",
    "    hash=np.random.randint(100,1000)\n",
    "    # hash=rand.randint(100,1000)\n",
    "    # hash*i mod m\n",
    "    omega = np.zeros((m,n))\n",
    "    for i in range(n):\n",
    "        pos = np.mod(hash*i,m)\n",
    "        omega[pos,i]=1\n",
    "    D = np.zeros((n,n))\n",
    "    for i in range(n):\n",
    "        D[i,i]=np.random.choice([-1,1])\n",
    "    # print(omega)\n",
    "    return omega @ D"
   ]
  },
  {
   "cell_type": "code",
   "execution_count": 84,
   "metadata": {},
   "outputs": [],
   "source": [
    "def gen_composite_sketching_mat(s,R,epsilon):\n",
    "    k1 = int(3*(R/epsilon))\n",
    "    k2 = int(3*(R*R + R/epsilon))\n",
    "    T = gen_count_sketch(s,k2)\n",
    "    G= np.random.randn(k2,k1)*(1/np.sqrt(k1))\n",
    "    S = T @ G\n",
    "    # print(np.shape(T))\n",
    "    # print(np.shape(G))\n",
    "    return S\n"
   ]
  },
  {
   "cell_type": "code",
   "execution_count": 85,
   "metadata": {},
   "outputs": [],
   "source": [
    "def Init_RRF(M,R,epsilon):\n",
    "    m =np.shape(M)[1]\n",
    "    S=gen_composite_sketching_mat(m,R,epsilon)\n",
    "    B = M @ S\n",
    "    U,sigma,V = np.linalg.svd(B)\n",
    "    print(np.shape(U))\n",
    "    return U[:,:R]"
   ]
  },
  {
   "cell_type": "code",
   "execution_count": 86,
   "metadata": {},
   "outputs": [],
   "source": [
    "# M = np.random.randint(0,50,size=(10,50))\n",
    "# R=np.linalg.matrix_rank(M)\n",
    "# matrix=Init_RRF(M,R,0.9)\n",
    "# print(matrix,np.shape(matrix))\n",
    "# # print(M)\n",
    "# print(R)\n",
    "# # print(gen_composite_sketching_mat(7,4,0.7))"
   ]
  },
  {
   "cell_type": "code",
   "execution_count": null,
   "metadata": {},
   "outputs": [],
   "source": []
  }
 ],
 "metadata": {
  "kernelspec": {
   "display_name": "Python 3",
   "language": "python",
   "name": "python3"
  },
  "language_info": {
   "codemirror_mode": {
    "name": "ipython",
    "version": 3
   },
   "file_extension": ".py",
   "mimetype": "text/x-python",
   "name": "python",
   "nbconvert_exporter": "python",
   "pygments_lexer": "ipython3",
   "version": "3.10.6"
  },
  "orig_nbformat": 4
 },
 "nbformat": 4,
 "nbformat_minor": 2
}

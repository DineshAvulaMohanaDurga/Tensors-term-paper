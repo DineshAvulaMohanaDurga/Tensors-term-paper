{
 "cells": [
  {
   "cell_type": "code",
   "execution_count": 4,
   "metadata": {},
   "outputs": [],
   "source": [
    "import numpy as np\n",
    "from scipy.sparse.linalg import svds\n",
    "import matplotlib.pyplot as plt\n",
    "\n",
    "def tucker_sketch(tensor, sketch_size, target_rank, max_iter=50, tol=1e-5):\n",
    "    # Obtain dimensions of the input tensor\n",
    "    dims = tensor.shape\n",
    "\n",
    "    # Randomly sample the columns of each mode using TensorSketch\n",
    "    sketch_indices = [np.random.choice(dims[i], size=sketch_size) for i in range(len(dims))]\n",
    "    sketches = [tensor.take(sketch_indices[i], axis=i) for i in range(len(dims))]\n",
    "\n",
    "    # Compute the SVD of each mode using the sketches\n",
    "    factors = []\n",
    "    for i in range(len(dims)):\n",
    "        U, S, V = svds(sketches[i], k=target_rank)\n",
    "        factors.append(U)\n",
    "\n",
    "    # Compute the core tensor from the full tensor and the factor matrices\n",
    "    core = tensor.copy()\n",
    "    for i in range(len(dims)):\n",
    "        core = np.tensordot(core, factors[i], axes=(i, 1))\n",
    "        core = np.moveaxis(core, -1, 0)\n",
    "\n",
    "    # Initialize the Tucker factors\n",
    "    for i in range(len(dims)):\n",
    "        factors[i] = np.random.randn(dims[i], target_rank)\n",
    "\n",
    "    # Initialize the fitness and convergence history\n",
    "    fit_hist = []\n",
    "    conv_hist = []\n",
    "\n",
    "    # Tucker ALS iteration\n",
    "    for it in range(max_iter):\n",
    "        # Update each factor matrix\n",
    "        for i in range(len(dims)):\n",
    "            tensor_mode = np.rollaxis(core, i)\n",
    "            tensor_mode = tensor_mode.reshape((target_rank, -1)).T\n",
    "            kr_prod = np.ones((dims[i], target_rank))\n",
    "            for j in range(len(dims)):\n",
    "                if j != i:\n",
    "                    kr_prod = np.multiply(kr_prod, factors[j][sketch_indices[j], :])\n",
    "            mat = kr_prod.T @ kr_prod\n",
    "            vec = kr_prod.T @ tensor_mode[:, :target_rank]\n",
    "            factors[i][sketch_indices[i], :] = np.linalg.solve(mat, vec).T\n",
    "\n",
    "        # Compute the new core tensor\n",
    "        core = tensor.copy()\n",
    "        for i in range(len(dims)):\n",
    "            core = np.tensordot(core, factors[i], axes=(i, 1))\n",
    "            core = np.moveaxis(core, -1, 0)\n",
    "\n",
    "        # Compute the new fitness and convergence\n",
    "        fit = 1 - np.linalg.norm(tensor - core) / np.linalg.norm(tensor)\n",
    "        fit_hist.append(fit)\n",
    "        conv = np.abs(fit - fit_hist[-2]) if it > 0 else np.inf\n",
    "        conv_hist.append(conv)\n",
    "\n",
    "        # Check for convergence\n",
    "        if conv < tol:\n",
    "            break\n",
    "    # Compute the Tucker decomposition\n",
    "    return core, factors, fit_hist\n"
   ]
  },
  {
   "cell_type": "code",
   "execution_count": 5,
   "metadata": {},
   "outputs": [
    {
     "ename": "ValueError",
     "evalue": "array must have ndim <= 2",
     "output_type": "error",
     "traceback": [
      "\u001b[0;31m---------------------------------------------------------------------------\u001b[0m",
      "\u001b[0;31mValueError\u001b[0m                                Traceback (most recent call last)",
      "Cell \u001b[0;32mIn[5], line 5\u001b[0m\n\u001b[1;32m      3\u001b[0m sketch\u001b[39m=\u001b[39m(\u001b[39m1\u001b[39m,\u001b[39m1\u001b[39m,\u001b[39m2\u001b[39m,\u001b[39m2\u001b[39m)\n\u001b[1;32m      4\u001b[0m ranks\u001b[39m=\u001b[39m(\u001b[39m1\u001b[39m,\u001b[39m2\u001b[39m,\u001b[39m2\u001b[39m,\u001b[39m2\u001b[39m)\n\u001b[0;32m----> 5\u001b[0m core, factors, fit_hist \u001b[39m=\u001b[39m tucker_sketch(T,sketch,ranks)\n\u001b[1;32m      6\u001b[0m plt\u001b[39m.\u001b[39mplot(fit_hist)\n\u001b[1;32m      7\u001b[0m plt\u001b[39m.\u001b[39mxlabel(\u001b[39m'\u001b[39m\u001b[39mIterations\u001b[39m\u001b[39m'\u001b[39m)\n",
      "Cell \u001b[0;32mIn[4], line 16\u001b[0m, in \u001b[0;36mtucker_sketch\u001b[0;34m(tensor, sketch_size, target_rank, max_iter, tol)\u001b[0m\n\u001b[1;32m     14\u001b[0m factors \u001b[39m=\u001b[39m []\n\u001b[1;32m     15\u001b[0m \u001b[39mfor\u001b[39;00m i \u001b[39min\u001b[39;00m \u001b[39mrange\u001b[39m(\u001b[39mlen\u001b[39m(dims)):\n\u001b[0;32m---> 16\u001b[0m     U, S, V \u001b[39m=\u001b[39m svds(sketches[i], k\u001b[39m=\u001b[39;49mtarget_rank)\n\u001b[1;32m     17\u001b[0m     factors\u001b[39m.\u001b[39mappend(U)\n\u001b[1;32m     19\u001b[0m \u001b[39m# Compute the core tensor from the full tensor and the factor matrices\u001b[39;00m\n",
      "File \u001b[0;32m~/.local/lib/python3.10/site-packages/scipy/sparse/linalg/_eigen/_svds.py:447\u001b[0m, in \u001b[0;36msvds\u001b[0;34m(A, k, ncv, tol, which, v0, maxiter, return_singular_vectors, solver, random_state, options)\u001b[0m\n\u001b[1;32m    104\u001b[0m \u001b[39mdef\u001b[39;00m \u001b[39msvds\u001b[39m(A, k\u001b[39m=\u001b[39m\u001b[39m6\u001b[39m, ncv\u001b[39m=\u001b[39m\u001b[39mNone\u001b[39;00m, tol\u001b[39m=\u001b[39m\u001b[39m0\u001b[39m, which\u001b[39m=\u001b[39m\u001b[39m'\u001b[39m\u001b[39mLM\u001b[39m\u001b[39m'\u001b[39m, v0\u001b[39m=\u001b[39m\u001b[39mNone\u001b[39;00m,\n\u001b[1;32m    105\u001b[0m          maxiter\u001b[39m=\u001b[39m\u001b[39mNone\u001b[39;00m, return_singular_vectors\u001b[39m=\u001b[39m\u001b[39mTrue\u001b[39;00m,\n\u001b[1;32m    106\u001b[0m          solver\u001b[39m=\u001b[39m\u001b[39m'\u001b[39m\u001b[39marpack\u001b[39m\u001b[39m'\u001b[39m, random_state\u001b[39m=\u001b[39m\u001b[39mNone\u001b[39;00m, options\u001b[39m=\u001b[39m\u001b[39mNone\u001b[39;00m):\n\u001b[1;32m    107\u001b[0m     \u001b[39m\"\"\"\u001b[39;00m\n\u001b[1;32m    108\u001b[0m \u001b[39m    Partial singular value decomposition of a sparse matrix.\u001b[39;00m\n\u001b[1;32m    109\u001b[0m \n\u001b[0;32m   (...)\u001b[0m\n\u001b[1;32m    445\u001b[0m \u001b[39m    True\u001b[39;00m\n\u001b[1;32m    446\u001b[0m \u001b[39m    \"\"\"\u001b[39;00m\n\u001b[0;32m--> 447\u001b[0m     args \u001b[39m=\u001b[39m _iv(A, k, ncv, tol, which, v0, maxiter, return_singular_vectors,\n\u001b[1;32m    448\u001b[0m                solver, random_state)\n\u001b[1;32m    449\u001b[0m     (A, k, ncv, tol, which, v0, maxiter,\n\u001b[1;32m    450\u001b[0m      return_singular_vectors, solver, random_state) \u001b[39m=\u001b[39m args\n\u001b[1;32m    452\u001b[0m     largest \u001b[39m=\u001b[39m (which \u001b[39m==\u001b[39m \u001b[39m'\u001b[39m\u001b[39mLM\u001b[39m\u001b[39m'\u001b[39m)\n",
      "File \u001b[0;32m~/.local/lib/python3.10/site-packages/scipy/sparse/linalg/_eigen/_svds.py:36\u001b[0m, in \u001b[0;36m_iv\u001b[0;34m(A, k, ncv, tol, which, v0, maxiter, return_singular, solver, random_state)\u001b[0m\n\u001b[1;32m     33\u001b[0m     \u001b[39mraise\u001b[39;00m \u001b[39mValueError\u001b[39;00m(\u001b[39mf\u001b[39m\u001b[39m\"\u001b[39m\u001b[39msolver must be one of \u001b[39m\u001b[39m{\u001b[39;00msolvers\u001b[39m}\u001b[39;00m\u001b[39m.\u001b[39m\u001b[39m\"\u001b[39m)\n\u001b[1;32m     35\u001b[0m \u001b[39m# input validation/standardization for `A`\u001b[39;00m\n\u001b[0;32m---> 36\u001b[0m A \u001b[39m=\u001b[39m aslinearoperator(A)  \u001b[39m# this takes care of some input validation\u001b[39;00m\n\u001b[1;32m     37\u001b[0m \u001b[39mif\u001b[39;00m \u001b[39mnot\u001b[39;00m (np\u001b[39m.\u001b[39missubdtype(A\u001b[39m.\u001b[39mdtype, np\u001b[39m.\u001b[39mcomplexfloating)\n\u001b[1;32m     38\u001b[0m         \u001b[39mor\u001b[39;00m np\u001b[39m.\u001b[39missubdtype(A\u001b[39m.\u001b[39mdtype, np\u001b[39m.\u001b[39mfloating)):\n\u001b[1;32m     39\u001b[0m     message \u001b[39m=\u001b[39m \u001b[39m\"\u001b[39m\u001b[39m`A` must be of floating or complex floating data type.\u001b[39m\u001b[39m\"\u001b[39m\n",
      "File \u001b[0;32m~/.local/lib/python3.10/site-packages/scipy/sparse/linalg/_interface.py:806\u001b[0m, in \u001b[0;36maslinearoperator\u001b[0;34m(A)\u001b[0m\n\u001b[1;32m    804\u001b[0m \u001b[39melif\u001b[39;00m \u001b[39misinstance\u001b[39m(A, np\u001b[39m.\u001b[39mndarray) \u001b[39mor\u001b[39;00m \u001b[39misinstance\u001b[39m(A, np\u001b[39m.\u001b[39mmatrix):\n\u001b[1;32m    805\u001b[0m     \u001b[39mif\u001b[39;00m A\u001b[39m.\u001b[39mndim \u001b[39m>\u001b[39m \u001b[39m2\u001b[39m:\n\u001b[0;32m--> 806\u001b[0m         \u001b[39mraise\u001b[39;00m \u001b[39mValueError\u001b[39;00m(\u001b[39m'\u001b[39m\u001b[39marray must have ndim <= 2\u001b[39m\u001b[39m'\u001b[39m)\n\u001b[1;32m    807\u001b[0m     A \u001b[39m=\u001b[39m np\u001b[39m.\u001b[39matleast_2d(np\u001b[39m.\u001b[39masarray(A))\n\u001b[1;32m    808\u001b[0m     \u001b[39mreturn\u001b[39;00m MatrixLinearOperator(A)\n",
      "\u001b[0;31mValueError\u001b[0m: array must have ndim <= 2"
     ]
    }
   ],
   "source": [
    "   # Plot the fitness vs iterations plot if requested\n",
    "T=np.random.randn(2,2,2,2)\n",
    "sketch=(1,1,2,2)\n",
    "ranks=(1,2,2,2)\n",
    "core, factors, fit_hist = tucker_sketch(T,sketch,ranks)\n",
    "plt.plot(fit_hist)\n",
    "plt.xlabel('Iterations')\n",
    "plt.ylabel('Fitness')\n",
    "plt.title('Fitness vs Iterations Plot')\n",
    "plt.show()\n"
   ]
  }
 ],
 "metadata": {
  "kernelspec": {
   "display_name": "Python 3",
   "language": "python",
   "name": "python3"
  },
  "language_info": {
   "codemirror_mode": {
    "name": "ipython",
    "version": 3
   },
   "file_extension": ".py",
   "mimetype": "text/x-python",
   "name": "python",
   "nbconvert_exporter": "python",
   "pygments_lexer": "ipython3",
   "version": "3.10.6"
  },
  "orig_nbformat": 4
 },
 "nbformat": 4,
 "nbformat_minor": 2
}
